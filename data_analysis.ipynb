{
 "cells": [
  {
   "cell_type": "markdown",
   "metadata": {},
   "source": [
    "# Water usage analysis code for trials"
   ]
  },
  {
   "cell_type": "markdown",
   "metadata": {},
   "source": [
    "## Introduction"
   ]
  },
  {
   "cell_type": "markdown",
   "metadata": {},
   "source": [
    "This notebook contains Python code that is able to run through multiple log files to determine shower usage. The log files should be in their own folder, one for each shower unit, and these folders should be place in the directory where this notebook is.\n",
    "\n",
    "Main code that finds all the csv files in the directory folder and runs \"water_usage_analysis\" on them before producing the outputs. Check that the files are in the same location as glob.glob is looking for. Each /**/ represents a folder.\n",
    "\n",
    "The wildcards allow for multiple folders to be analysed so long as the logs are the same depth in folders as eachother. E.g. \n",
    "\n",
    "./folder/shower1/log.csv … \n",
    "\n",
    "./folder/shower2/log.csv …\n",
    "\n",
    "./folder/shower3/log.csv …"
   ]
  },
  {
   "cell_type": "markdown",
   "metadata": {},
   "source": [
    "To run this notebook click Cell > Run All. Additionally ensure that the Kernel is cleared by clicking Kernel > Restart & Clear All or Restart & Run All "
   ]
  },
  {
   "cell_type": "markdown",
   "metadata": {},
   "source": [
    "The code will determine the water usage, shower on time (duration of a shower), and number of operations (button presses) per user. Shower on time and number of operations have been averaged hourly, water usage has been summed hourly. "
   ]
  },
  {
   "cell_type": "markdown",
   "metadata": {},
   "source": [
    "Once the code has completed running graphs in plotly will be produced as well as several CSV files. "
   ]
  },
  {
   "cell_type": "markdown",
   "metadata": {},
   "source": [
    "'operations_hourly.csv' is a csv file which contains the hourly average of the number of operations"
   ]
  },
  {
   "cell_type": "markdown",
   "metadata": {},
   "source": [
    "'shower_on_time_hourly.csv' is a csv file which contains the hourly average of the shower on time\n",
    "   "
   ]
  },
  {
   "cell_type": "markdown",
   "metadata": {},
   "source": [
    " 'waterusage_hourly.csv' is a csv file which contains the total amount of water that was used in a given hour (hourly sum)\n",
    "    "
   ]
  },
  {
   "cell_type": "markdown",
   "metadata": {},
   "source": [
    "'full_usage_output.csv' is a csv file which contains the outputs of each individual shower including shower on time, number of operations, max motor temperature, date and time the shower ended, and the filename/location"
   ]
  },
  {
   "cell_type": "markdown",
   "metadata": {},
   "source": [
    "'full_data_output.csv' is the full data output which has been processed and cleaned up. Removing extra columns. This is a csv file which has merged all the shower data into one and ordered based on date/time. Further analysis can be done using this csv file in Excel if desired. "
   ]
  },
  {
   "cell_type": "markdown",
   "metadata": {},
   "source": [
    "## Code walkthrough"
   ]
  },
  {
   "cell_type": "markdown",
   "metadata": {},
   "source": [
    "Initialising steps and importing libraries"
   ]
  },
  {
   "cell_type": "code",
   "execution_count": null,
   "metadata": {},
   "outputs": [],
   "source": [
    "# -*- coding: utf-8 -*-\n",
    "\"\"\"\n",
    "Created on Wed Aug 22 12:01:29 2018\n",
    "\n",
    "@author: Samvir Thandi for Kelda Technology\n",
    "\n",
    "\"\"\"\n",
    "import math                      # allows the use of math functions\n",
    "import numpy as np               # allows use of the numpy library\n",
    "import pandas as pd              # allows use of pandas data tools\n",
    "import glob                      # allows use of Unix style file paths\n",
    "import matplotlib.pyplot as plt\n",
    "import plotly       # plotly library imports\n",
    "import plotly.graph_objs as go\n",
    "\n",
    "print(plotly.__version__)  # plotly version \n",
    "\n",
    "plotly.offline.init_notebook_mode(connected=True)  # plotly initialisation for Jupyter notebook use (offline mode)\n",
    "\n"
   ]
  },
  {
   "cell_type": "markdown",
   "metadata": {},
   "source": [
    "This function converts the thermistor readings from the motor into degrees Celcius"
   ]
  },
  {
   "cell_type": "code",
   "execution_count": null,
   "metadata": {},
   "outputs": [],
   "source": [
    "def thermistor_to_deg(x):\n",
    "    \"\"\"\n",
    "    This function turns the theristor readings into a temperature reading in\n",
    "    degrees Celsius\n",
    "    \"\"\"\n",
    "    # conversion formula\n",
    "    if x > 0 and x < 4:\n",
    "        temp = (3610*298.0/(3610+298*math.log((x/(5-x)) * (33000/10000)))-273)\n",
    "    else:\n",
    "        temp = 0  # bug checking\n",
    "    if temp > 150:  # ensures temp is not high > indicates corrupted data\n",
    "        temp = 0\n",
    "    else:\n",
    "        pass\n",
    "    return temp"
   ]
  },
  {
   "cell_type": "markdown",
   "metadata": {},
   "source": [
    "This function processes the csv files and returns the dataframe and output series for analysis across all files"
   ]
  },
  {
   "cell_type": "markdown",
   "metadata": {},
   "source": [
    "### Note\n",
    "The date and timestamp for the line in a given csv file is only added after the new line key is pressed. Hence the date and time on a line actually refers to the date and time from the previous line. Due to this the columns are shifted down by two in this function. This is easier than shifting the datetime itself since it has become the index column when importing the csv file for ease of process later in the program. Shifting the index can cause issues and is more complex than simply shifting the rest of the columns. The reason the lines are shifted by two is to get out of the long term logging behaviour which can lead to large time deltas, so this ensures the logger is actually acting in short term mode."
   ]
  },
  {
   "cell_type": "code",
   "execution_count": null,
   "metadata": {},
   "outputs": [],
   "source": [
    "def water_usage_analysis(filename):\n",
    "    \"\"\"\n",
    "    This function imports a csv file, parses the file for water usage\n",
    "    \"\"\"\n",
    "\n",
    "    # Import the csv file skipping the first two rows because these do not\n",
    "    # contain any data. Also set headers to none since the csv file does not\n",
    "    # contain headers. Parse the dates from a string to datetime by combining\n",
    "    # columns 0 and 1 together. Then picks the relevant columns.\n",
    "    # skip lines which are considered 'bad' typically lines which are too long\n",
    "    # This creates a pandas dataframe named 'df'\n",
    "\n",
    "    df = pd.read_csv(filename,\n",
    "                     skiprows=2,\n",
    "                     header=None,\n",
    "                     error_bad_lines=False,\n",
    "                     parse_dates={'datetime': [0, 1]},\n",
    "                     index_col='datetime'\n",
    "                     )\n",
    "    # rename the columns for ease of processing, including unused columns such that they can easily be identified later\n",
    "    df.rename(columns={\n",
    "                       2: '2',\n",
    "                       3: '3',\n",
    "                       4: '4',\n",
    "                       5: '5',\n",
    "                       6: '6',\n",
    "                       7: '7',\n",
    "                       8: '8',\n",
    "                       9: '9',\n",
    "                       10: '10',\n",
    "                       11: 'RPS',\n",
    "                       12: 'flowpulses',\n",
    "                       13: '13',\n",
    "                       14: '14',\n",
    "                       15: 'tempprobe',\n",
    "                       16: 'humidity',\n",
    "                       17: '17',\n",
    "                       18: '18',\n",
    "                       19: '19',\n",
    "                       20: '20',\n",
    "                       21: 'temppcb',\n",
    "                       22: '22',\n",
    "                       23: '23',\n",
    "                       24: '24',\n",
    "                       25: '25',\n",
    "                       26: 'motorthermistor',\n",
    "                       27: '27',\n",
    "                       28: '28',\n",
    "                       29: '29',\n",
    "                       30: '30',\n",
    "                       31: '31',\n",
    "                       32: 'fanspeed',\n",
    "                       33: '33'\n",
    "                       }, inplace=True)\n",
    "\n",
    "    # drop extra columns as named by numbers which are actually strings so can be called easily. \n",
    "    df.drop(['2', '3', '4', '5', '6', '7', '8', '9', '10', '13', '14', '17',\n",
    "             '18', '19', '20', '22', '23', '24', '25', '27', '28', '29', '30',\n",
    "             '31', '33'], axis=1, inplace=True)\n",
    "    # shift the revolution per second column down by one to compensate for the datetime being shifted\n",
    "    df['RPS'] = df['RPS'].shift(2)\n",
    "    # shift the flow pulses column down by two to compensate for the datetime being shifted\n",
    "    df['flowpulses'] = df['flowpulses'].shift(2)\n",
    "    # shift the temperature probe column down by two to compensate for the datetime being shifted\n",
    "    df['tempprobe'] = df['tempprobe'].shift(2)\n",
    "    # shift the humidity column down by one to compensate for the datetime being shifted\n",
    "    df['humidity'] = df['humidity'].shift(2)\n",
    "    # shift the pcb temperature column down by two to compensate for the datetime being shifted\n",
    "    df['temppcb'] = df['temppcb'].shift(2)\n",
    "    # shift the motor thermistor column down by two to compensate for the datetime being shifted\n",
    "    df['motorthermistor'] = df['motorthermistor'].shift(2)\n",
    "    # shift the fan speed setting column down by two to compensate for the datetime being shifted\n",
    "    df['fanspeed'] = df['fanspeed'].shift(2)\n",
    "    # drop lines with no data Not A Number or NaN, inplace to the current dataframe\n",
    "    df.dropna(inplace=True)\n",
    "\n",
    "    # processing on the flowpulses to convert to flow rate in l/min\n",
    "    df['flowrate'] = 60*1000/df.flowpulses\n",
    "    # Replace infinite flow rate with 0, this is due to the flow sensor giving an output of zero when there is no flow\n",
    "    df.flowrate.replace(np.inf, 0, inplace=True)\n",
    "    # determine the mean flow rate but excluding the zero values as this will skew the flow rate. \n",
    "    mean_flowrate = df[df.flowrate > 0].mean()['flowrate']\n",
    "\n",
    "    # convert the thermistor readings into degrees\n",
    "    df['motortemp'] = df['motorthermistor'].apply(thermistor_to_deg)\n",
    "    # identify what the maximum motor temperature is\n",
    "    max_motor_temp = df.motortemp.max()\n",
    "    # Calculate the time delta between data points\n",
    "    # first convert the index to date time, can cause errors otherwise\n",
    "    # dt.seconds is used to convert the time delta into seconds for the\n",
    "    # flow calculation\n",
    "    # fillna(0) ensures first point delta is 0\n",
    "    df['timedelta'] = pd.to_datetime(df.index)\n",
    "    df['timedelta'] = df.timedelta.diff().dt.seconds.fillna(0)\n",
    "\n",
    "    # Cumulative sum over the time deltas to work out how long the shower has\n",
    "    # been running for. Useful for experiments where time is irrelevant\n",
    "    df['duration'] = df.timedelta.cumsum()\n",
    "\n",
    "    # calculates the amount of water used in the time delta (seconds) based on\n",
    "    # the current flow rate (l/min)\n",
    "    df['waterusage'] = df.flowrate * df.timedelta/60\n",
    "    user_water_usage = df['waterusage'].sum()\n",
    "\n",
    "\n",
    "    # determine the time shower was on and time spent in the shower\n",
    "    shower_on_time = df[df.flowrate > 0].sum()['timedelta']/60\n",
    "    # number of operations boolean logic.\n",
    "    # If the current flow rate is greater than 0 and the previous flow rate is 0 then this is an operation\n",
    "    operations = df[(df.flowrate > 0) &\n",
    "                    (df.flowrate.shift(-1) == 0)].count()['flowrate']\n",
    "\n",
    "    # saving the key datapoints as a output series, this is just a dataframe with only one line\n",
    "    output_series = pd.Series({'datetime': df.index[-1],\n",
    "                               'shower_on_time': shower_on_time,\n",
    "                               'operations': operations,\n",
    "                               'max_motor_temp': max_motor_temp,\n",
    "                               'average_flow_rate': mean_flowrate,\n",
    "                               'user_water_usage': user_water_usage,\n",
    "                               'filename': filename\n",
    "                               })\n",
    "    # return the processed dataframe and the series\n",
    "    return(df, output_series)"
   ]
  },
  {
   "cell_type": "markdown",
   "metadata": {},
   "source": [
    "Main code that finds all the csv files in the directory folder and runs \"water_usage_analysis\" on them before producing the outputs. Check that the files are in the same location as glob.glob is looking for. Each /**/ represents a folder.\n",
    "\n",
    "The wildcards allow for multiple folders to be analysed so long as the logs are the same depth in folders as eachother. E.g. \n",
    "\n",
    "./folder/shower1/log.csv … \n",
    "\n",
    "./folder/shower2/log.csv …\n",
    "\n",
    "./folder/shower3/log.csv …\n",
    "\n"
   ]
  },
  {
   "cell_type": "code",
   "execution_count": null,
   "metadata": {},
   "outputs": [],
   "source": [
    "# make a list of file names using the glob.glob module. This is where to define the depth of the files in the\n",
    "# file structure \n",
    "filenames = glob.glob(\"./**/log*.csv\")\n",
    "# tells us number of users as the assumption can be made that a new user has entered after the csv file has been saved.\n",
    "number_of_files = len(filenames)\n",
    "# this is the list of series that will contain the output series from the previous function\n",
    "outputs = []\n",
    "# make a large dataframe which is all the local dataframes from each csv file combined into one.\n",
    "dfs = []  # list of full dfs\n",
    "for filename in filenames:\n",
    "    # create a series with the outputs\n",
    "    # error checking to ensure that the file has enough columns\n",
    "    try:\n",
    "        (df, output_series) = water_usage_analysis(filename)\n",
    "    # excepts the keyerror and does not continue with this file\n",
    "    except KeyError:\n",
    "        print('File {} does not contain enough data columns'.format(filename))\n",
    "        pass\n",
    "    # value errors may appear, this checks for them and prints the filename\n",
    "    except ValueError:\n",
    "        print('Value error at {}'.format(filename))\n",
    "        pass\n",
    "    outputs.append(output_series)  # add the outputs to the list\n",
    "    dfs.append(df)  # add the local df to the list of dfs\n",
    "\n",
    "# shower time outputs\n",
    "# turn the list of Pandas series called outputs into a Pandas dataframe\n",
    "output_df = pd.DataFrame(outputs)\n",
    "# parse the datetime column as actual datetime rather than just strings\n",
    "output_df.datetime = pd.to_datetime(output_df['datetime'])\n",
    "# set index to datetime\n",
    "output_df.set_index('datetime', inplace=True)\n",
    "# sort the index in date time order as processing occurs in a random order\n",
    "output_df.sort_index(inplace=True)\n",
    "\n",
    "# total data outputs\n",
    "# concat the list of individual dataframes into one large dataframe\n",
    "total_df = pd.concat(dfs)\n",
    "# parse the datetime column as actual datetime rather than just strings\n",
    "total_df.index = pd.to_datetime(total_df.index)\n",
    "# sorts the dataframe by datetime as processing occurs in a random order\n",
    "total_df.sort_index(inplace=True)\n",
    "\n",
    "# totals\n",
    "# the total water used is the sum of all the water usage from the combined dataframe\n",
    "total_water = total_df.waterusage.sum()\n",
    "# take an average of the shower on time column in the combined dataframe\n",
    "tot_avg_dur_secs = output_df.shower_on_time.mean()*60\n",
    "(average_dur_minutes, average_dur_seconds) = divmod(tot_avg_dur_secs, 60)\n",
    "# motor data\n",
    "maximum_motor_temp = output_df.max_motor_temp.max()\n",
    "max_motor_temp_loc = output_df.loc[output_df.max_motor_temp ==\n",
    "                                    output_df.max_motor_temp.max(),\n",
    "                                    'filename'].values[0]\n",
    "average_motor_temp = total_df.motortemp.mean()\n",
    "fifty_perc_motor_temp = total_df.motortemp.quantile(0.5)\n",
    "ninetyfifth_perc_motor_temp = total_df.motortemp.quantile(0.95)\n",
    "ninetynineth_perc_motor_temp = total_df.motortemp.quantile(0.99)\n",
    "\n",
    "# resample the df by hour and find the hourly average/sum\n",
    "water_usage_hour = total_df.waterusage.resample('H').sum().fillna(0)\n",
    "showerontime_hour = output_df.shower_on_time.resample('H').mean().fillna(0)\n",
    "operations_hour = output_df.operations.resample('H').mean().fillna(0)"
   ]
  },
  {
   "cell_type": "code",
   "execution_count": null,
   "metadata": {},
   "outputs": [],
   "source": [
    "    # save the outputs to csv files\n",
    "    # the number of operations per hour\n",
    "    operations_hour.to_csv('operations_hourly.csv')\n",
    "    # the time the shower was on for\n",
    "    showerontime_hour.to_csv('shower_on_time_hourly.csv')\n",
    "    # how much water was used hourly\n",
    "    water_usage_hour.to_csv('waterusage_hourly.csv')\n",
    "    # shower on time, number of operations, motor temp for an individual user\n",
    "    output_df.to_csv('individual_user_usage.csv')\n",
    "    # all the data sorted by time, a combination of all csv files. This is a large file and may not be very useful for analysis\n",
    "    total_df.to_csv('all_data_output.csv')"
   ]
  },
  {
   "cell_type": "markdown",
   "metadata": {},
   "source": [
    "## Outputs"
   ]
  },
  {
   "cell_type": "code",
   "execution_count": null,
   "metadata": {},
   "outputs": [],
   "source": [
    "with open('output.txt', 'w') as f:\n",
    "    print(\"\"\"\\n\\nFrom {} to {}\\n\\nNumber of users: {}\n",
    "Total water consumption: {:.2f} litres\n",
    "\n",
    "Average duration: {:.0f} minutes and {:.0f} seconds\n",
    "\n",
    "The maximum motor temperature was {:.2f}°C in location {}\n",
    "The average motor temperature is {:.2f}°C\n",
    "The 50th percentile of the motor temperature is {:.2f}°C\n",
    "The 95th percentile of the motor temperature is {:.2f}°C\n",
    "The 99th percentile of the motor temperature is {:.2f}°C\n",
    "    \"\"\".format(total_df.index[0], total_df.index[-1], number_of_files,\n",
    "               total_water, average_dur_minutes, average_dur_seconds,\n",
    "               maximum_motor_temp, max_motor_temp_loc,\n",
    "               average_motor_temp, fifty_perc_motor_temp,\n",
    "               ninetyfifth_perc_motor_temp, ninetynineth_perc_motor_temp), file=f)"
   ]
  },
  {
   "cell_type": "code",
   "execution_count": null,
   "metadata": {},
   "outputs": [],
   "source": [
    "print(\"\"\"\\n\\nFrom {} to {}\\n\\nNumber of users: {}\n",
    "Total water consumption: {:.2f} litres\n",
    "\n",
    "Average duration: {:.0f} minutes and {:.0f} seconds\n",
    "\n",
    "The maximum motor temperature was {:.2f}°C in location {}\n",
    "The average motor temperature is {:.2f}°C\n",
    "The 50th percentile of the motor temperature is {:.2f}°C\n",
    "The 95th percentile of the motor temperature is {:.2f}°C\n",
    "The 99th percentile of the motor temperature is {:.2f}°C\n",
    "    \"\"\".format(total_df.index[0], total_df.index[-1], number_of_files,\n",
    "               total_water, average_dur_minutes, average_dur_seconds,\n",
    "               maximum_motor_temp, max_motor_temp_loc,\n",
    "               average_motor_temp, fifty_perc_motor_temp,\n",
    "               ninetyfifth_perc_motor_temp, ninetynineth_perc_motor_temp))"
   ]
  },
  {
   "cell_type": "markdown",
   "metadata": {},
   "source": [
    "## Plotly"
   ]
  },
  {
   "cell_type": "markdown",
   "metadata": {},
   "source": [
    "Plotly is a graphing library which allows interactive plots to be generated. These plots can be saved to a plotly account and then exported to html or just an image if desired. Plots can be fully customised as desired using the key and value arguments in the dictionaries. For example the title key can be changed. Additionally under xaxis and yaxis is another dictionary where various parameters can be added such as font or size. A demonstatration for customising the axes can be found at https://plot.ly/python/axes/#set-and-style-axes-title-labels-and-ticks which should cover most customisation requirements. Additionally the full reference can be found at: https://plot.ly/python/reference/"
   ]
  },
  {
   "cell_type": "code",
   "execution_count": null,
   "metadata": {},
   "outputs": [],
   "source": [
    "water_usage_hour['dates']=water_usage_hour.index\n",
    "\n",
    "plotly.offline.plot({\n",
    "    \"data\": [go.Scatter(\n",
    "                        x=water_usage_hour.index,\n",
    "                        y=water_usage_hour\n",
    "                       )\n",
    "            ],\n",
    "    \"layout\": go.Layout(title=\"Hourly water consumption\",\n",
    "                        titlefont=dict(\n",
    "                                        size=18\n",
    "                                      ),\n",
    "                        xaxis=dict(\n",
    "                                    tickfont=dict(\n",
    "                                                    size=14\n",
    "                                                 )\n",
    "                                  ),\n",
    "                        yaxis=dict(\n",
    "                                    title='Hourly Water consumption (litres)',\n",
    "                                    titlefont=dict(\n",
    "                                                    size=18\n",
    "                                                  ),\n",
    "                                    tickfont=dict(\n",
    "                                                    size=14\n",
    "                                                 )\n",
    "                                   ),\n",
    "                        annotations=[\n",
    "                                     dict(\n",
    "                                            showarrow=False,\n",
    "                                            x=1,\n",
    "                                            y=1.07,\n",
    "                                            xref='paper',\n",
    "                                            yref='paper',\n",
    "                                            text='Total water consumption: {:.2f} litres'.format(total_water),\n",
    "                                            font=dict(\n",
    "                                                        size=14\n",
    "                                                     )\n",
    "                                         ),\n",
    "                                     dict(\n",
    "                                            showarrow=False,\n",
    "                                            x=1,\n",
    "                                            y=1,\n",
    "                                            xref='paper',\n",
    "                                            yref='paper',\n",
    "                                            text='Number of users: {}'.format(number_of_files),\n",
    "                                            font=dict(\n",
    "                                                        size=14\n",
    "                                                      )\n",
    "                                         )\n",
    "                                    ]\n",
    "                       ),\n",
    "}, filename='water_usage.html', auto_open=False)"
   ]
  },
  {
   "cell_type": "code",
   "execution_count": null,
   "metadata": {},
   "outputs": [],
   "source": [
    "showerontime_hour['dates']=showerontime_hour.index\n",
    "\n",
    "plotly.offline.plot({\n",
    "    \"data\": [go.Scatter(\n",
    "                        x=showerontime_hour.index,\n",
    "                        y=showerontime_hour\n",
    "                       )\n",
    "            ],\n",
    "    \"layout\": go.Layout(title=\"Average shower duration hourly\",\n",
    "                        titlefont=dict(\n",
    "                                        size=18\n",
    "                                      ),\n",
    "                        xaxis=dict(\n",
    "                                    tickfont=dict(\n",
    "                                                    size=14\n",
    "                                                 )\n",
    "                                  ),\n",
    "                        yaxis=dict(\n",
    "                                    title='Shower duration (minutes)',\n",
    "                                    titlefont=dict(\n",
    "                                                    size=18 \n",
    "                                                  ),\n",
    "                                    tickfont=dict(\n",
    "                                                    size=14\n",
    "                                                 )\n",
    "                                  )\n",
    "                        )\n",
    "}, filename='shower_time.html', auto_open=False)"
   ]
  },
  {
   "cell_type": "code",
   "execution_count": null,
   "metadata": {
    "scrolled": false
   },
   "outputs": [],
   "source": [
    "operations_hour['dates']=operations_hour.index\n",
    "\n",
    "plotly.offline.plot({\n",
    "    \"data\": [go.Scatter(\n",
    "                        x=operations_hour.index,\n",
    "                        y=operations_hour\n",
    "                       )\n",
    "            ],\n",
    "    \"layout\": go.Layout(title=\"Average number of operations per user hourly\",\n",
    "                        titlefont=dict(\n",
    "                                        size=18\n",
    "                                      ),\n",
    "                        xaxis=dict(\n",
    "                                    tickfont=dict(\n",
    "                                                 size=14\n",
    "                                                )\n",
    "                                  ),\n",
    "                        yaxis=dict(\n",
    "                                    title = 'Operations',\n",
    "                                    titlefont=dict(\n",
    "                                                   size=18\n",
    "                                                  ),\n",
    "                        tickfont=dict(\n",
    "                                        size=14\n",
    "                                     )\n",
    "                                  )\n",
    "                       )\n",
    "}, filename='operations.html', auto_open=False)"
   ]
  }
 ],
 "metadata": {
  "kernelspec": {
   "display_name": "Python 3",
   "language": "python",
   "name": "python3"
  },
  "language_info": {
   "codemirror_mode": {
    "name": "ipython",
    "version": 3
   },
   "file_extension": ".py",
   "mimetype": "text/x-python",
   "name": "python",
   "nbconvert_exporter": "python",
   "pygments_lexer": "ipython3",
   "version": "3.8.5-final"
  }
 },
 "nbformat": 4,
 "nbformat_minor": 2
}